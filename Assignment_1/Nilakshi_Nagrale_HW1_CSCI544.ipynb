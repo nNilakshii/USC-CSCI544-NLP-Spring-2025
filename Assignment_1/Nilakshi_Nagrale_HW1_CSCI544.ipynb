{
  "cells": [
    {
      "cell_type": "code",
      "source": [
        "import pandas as pd\n",
        "import numpy as np\n",
        "import nltk\n",
        "import re\n",
        "import os\n",
        "import contractions\n",
        "\n",
        "from nltk.corpus import stopwords\n",
        "from nltk.stem import WordNetLemmatizer\n",
        "from nltk.tokenize import word_tokenize\n",
        "from bs4 import BeautifulSoup\n",
        "from sklearn.model_selection import train_test_split\n",
        "from sklearn.feature_extraction.text import TfidfVectorizer\n",
        "from sklearn.linear_model import Perceptron\n",
        "from sklearn.metrics import accuracy_score, recall_score, f1_score, precision_score\n",
        "from sklearn.svm import LinearSVC\n",
        "from sklearn.naive_bayes import MultinomialNB\n",
        "from sklearn.model_selection import GridSearchCV\n",
        "from sklearn.linear_model import LogisticRegression\n",
        "\n",
        "nltk.download('stopwords')\n",
        "nltk.download('punkt')\n",
        "nltk.download('punkt_tab')\n",
        "nltk.download('wordnet')\n",
        "\n",
        "%load_ext autotime\n"
      ],
      "metadata": {
        "colab": {
          "base_uri": "https://localhost:8080/"
        },
        "id": "gl5LIs9M0D-p",
        "outputId": "50ef60ef-15b2-45c4-a0ed-74f93201ed35"
      },
      "execution_count": 30,
      "outputs": [
        {
          "output_type": "stream",
          "name": "stdout",
          "text": [
            "The autotime extension is already loaded. To reload it, use:\n",
            "  %reload_ext autotime\n",
            "time: 14.1 ms (started: 2025-01-29 07:05:26 +00:00)\n"
          ]
        },
        {
          "output_type": "stream",
          "name": "stderr",
          "text": [
            "[nltk_data] Downloading package stopwords to /root/nltk_data...\n",
            "[nltk_data]   Package stopwords is already up-to-date!\n",
            "[nltk_data] Downloading package punkt to /root/nltk_data...\n",
            "[nltk_data]   Package punkt is already up-to-date!\n",
            "[nltk_data] Downloading package punkt_tab to /root/nltk_data...\n",
            "[nltk_data]   Package punkt_tab is already up-to-date!\n",
            "[nltk_data] Downloading package wordnet to /root/nltk_data...\n",
            "[nltk_data]   Package wordnet is already up-to-date!\n"
          ]
        }
      ]
    },
    {
      "cell_type": "code",
      "execution_count": 29,
      "metadata": {
        "colab": {
          "base_uri": "https://localhost:8080/"
        },
        "id": "WoxedK6QbHNc",
        "outputId": "55b6f008-0699-4e50-9a36-4c3aa8aa3e19"
      },
      "outputs": [
        {
          "output_type": "stream",
          "name": "stdout",
          "text": [
            "Requirement already satisfied: bs4 in /usr/local/lib/python3.11/dist-packages (0.0.2)\n",
            "Requirement already satisfied: beautifulsoup4 in /usr/local/lib/python3.11/dist-packages (from bs4) (4.12.3)\n",
            "Requirement already satisfied: soupsieve>1.2 in /usr/local/lib/python3.11/dist-packages (from beautifulsoup4->bs4) (2.6)\n",
            "Requirement already satisfied: contractions in /usr/local/lib/python3.11/dist-packages (0.1.73)\n",
            "Requirement already satisfied: textsearch>=0.0.21 in /usr/local/lib/python3.11/dist-packages (from contractions) (0.0.24)\n",
            "Requirement already satisfied: anyascii in /usr/local/lib/python3.11/dist-packages (from textsearch>=0.0.21->contractions) (0.3.2)\n",
            "Requirement already satisfied: pyahocorasick in /usr/local/lib/python3.11/dist-packages (from textsearch>=0.0.21->contractions) (2.1.0)\n",
            "Requirement already satisfied: ipython-autotime in /usr/local/lib/python3.11/dist-packages (0.3.2)\n",
            "Requirement already satisfied: ipython in /usr/local/lib/python3.11/dist-packages (from ipython-autotime) (7.34.0)\n",
            "Requirement already satisfied: setuptools>=18.5 in /usr/local/lib/python3.11/dist-packages (from ipython->ipython-autotime) (75.1.0)\n",
            "Requirement already satisfied: jedi>=0.16 in /usr/local/lib/python3.11/dist-packages (from ipython->ipython-autotime) (0.19.2)\n",
            "Requirement already satisfied: decorator in /usr/local/lib/python3.11/dist-packages (from ipython->ipython-autotime) (4.4.2)\n",
            "Requirement already satisfied: pickleshare in /usr/local/lib/python3.11/dist-packages (from ipython->ipython-autotime) (0.7.5)\n",
            "Requirement already satisfied: traitlets>=4.2 in /usr/local/lib/python3.11/dist-packages (from ipython->ipython-autotime) (5.7.1)\n",
            "Requirement already satisfied: prompt-toolkit!=3.0.0,!=3.0.1,<3.1.0,>=2.0.0 in /usr/local/lib/python3.11/dist-packages (from ipython->ipython-autotime) (3.0.50)\n",
            "Requirement already satisfied: pygments in /usr/local/lib/python3.11/dist-packages (from ipython->ipython-autotime) (2.18.0)\n",
            "Requirement already satisfied: backcall in /usr/local/lib/python3.11/dist-packages (from ipython->ipython-autotime) (0.2.0)\n",
            "Requirement already satisfied: matplotlib-inline in /usr/local/lib/python3.11/dist-packages (from ipython->ipython-autotime) (0.1.7)\n",
            "Requirement already satisfied: pexpect>4.3 in /usr/local/lib/python3.11/dist-packages (from ipython->ipython-autotime) (4.9.0)\n",
            "Requirement already satisfied: parso<0.9.0,>=0.8.4 in /usr/local/lib/python3.11/dist-packages (from jedi>=0.16->ipython->ipython-autotime) (0.8.4)\n",
            "Requirement already satisfied: ptyprocess>=0.5 in /usr/local/lib/python3.11/dist-packages (from pexpect>4.3->ipython->ipython-autotime) (0.7.0)\n",
            "Requirement already satisfied: wcwidth in /usr/local/lib/python3.11/dist-packages (from prompt-toolkit!=3.0.0,!=3.0.1,<3.1.0,>=2.0.0->ipython->ipython-autotime) (0.2.13)\n",
            "time: 8.34 s (started: 2025-01-29 07:05:15 +00:00)\n"
          ]
        }
      ],
      "source": [
        "!pip install bs4 # in case you don't have it installed\n",
        "!pip install contractions\n",
        "!pip install ipython-autotime\n",
        "# Dataset: https://s3.amazonaws.com/amazon-reviews-pds/tsv/amazon_reviews_us_Beauty_v1_00.tsv.gz"
      ]
    },
    {
      "cell_type": "code",
      "source": [
        "class ConfigValues:\n",
        "    RANDOM_STATE_VALUE = 42\n",
        "    MAX_TFIDF_FEATURES = 45000"
      ],
      "metadata": {
        "colab": {
          "base_uri": "https://localhost:8080/"
        },
        "id": "dMnD62hGSjp7",
        "outputId": "f64c3ea4-b9bd-4640-e8c2-7defbd035be1"
      },
      "execution_count": 31,
      "outputs": [
        {
          "output_type": "stream",
          "name": "stdout",
          "text": [
            "time: 697 µs (started: 2025-01-29 07:05:38 +00:00)\n"
          ]
        }
      ]
    },
    {
      "cell_type": "markdown",
      "metadata": {
        "id": "TZtxsrJJbHNc"
      },
      "source": [
        "## Read Data\n",
        "We are using Amazon Reviews dataset for Sentiment Analysis.\n",
        "\n",
        "- `sep='\\t'`: tab-separated values in our dataset\n",
        "\n",
        "- `compression=\"gzip\"` : to decompress our dataset\n",
        "\n",
        "- `on_bad_lines=\"skip\"`: in case or incorrect format / error in lines, skip it\n",
        "\n",
        "###### Extract the dataset and store in data, for further processing\n"
      ]
    },
    {
      "cell_type": "code",
      "execution_count": 32,
      "metadata": {
        "id": "4vfbiKrMbHNc",
        "colab": {
          "base_uri": "https://localhost:8080/"
        },
        "outputId": "1e424955-72cf-4999-f134-8a8818debccb"
      },
      "outputs": [
        {
          "output_type": "stream",
          "name": "stderr",
          "text": [
            "<ipython-input-32-0eab51952ac3>:2: DtypeWarning: Columns (7) have mixed types. Specify dtype option on import or set low_memory=False.\n",
            "  data = pd.read_csv(url, sep='\\t', compression='gzip', on_bad_lines='skip')\n"
          ]
        },
        {
          "output_type": "stream",
          "name": "stdout",
          "text": [
            "time: 55 s (started: 2025-01-29 07:05:41 +00:00)\n"
          ]
        }
      ],
      "source": [
        "url = \"https://web.archive.org/web/20201127142707if_/https://s3.amazonaws.com/amazon-reviews-pds/tsv/amazon_reviews_us_Office_Products_v1_00.tsv.gz\"\n",
        "data = pd.read_csv(url, sep='\\t', compression='gzip', on_bad_lines='skip')"
      ]
    },
    {
      "cell_type": "markdown",
      "metadata": {
        "id": "IZOr47CxbHNc"
      },
      "source": [
        "## Keep Reviews and Ratings\n",
        "\n",
        "Extract reviews and ratings for further processing, peek at what the data looks like."
      ]
    },
    {
      "cell_type": "code",
      "source": [
        "data = data[['review_body', 'star_rating']]\n",
        "data.head(10)"
      ],
      "metadata": {
        "colab": {
          "base_uri": "https://localhost:8080/",
          "height": 380
        },
        "id": "pEmnqyc2fn28",
        "outputId": "8603777b-7797-451f-f0a8-2171592812c1"
      },
      "execution_count": 33,
      "outputs": [
        {
          "output_type": "execute_result",
          "data": {
            "text/plain": [
              "                                         review_body star_rating\n",
              "0                                     Great product.           5\n",
              "1  What's to say about this commodity item except...           5\n",
              "2    Haven't used yet, but I am sure I will like it.           5\n",
              "3  Although this was labeled as &#34;new&#34; the...           1\n",
              "4                    Gorgeous colors and easy to use           4\n",
              "5  Perfect for planning weekly meals. Removrd the...           5\n",
              "6  Gold plated fusers are the best! It will never...           5\n",
              "7  I have used these highlighters for my bible fo...           5\n",
              "8  Heavy pen that writes very well.  I've had it ...           5\n",
              "9  Not sure if they work but sent quickly and fit...           5"
            ],
            "text/html": [
              "\n",
              "  <div id=\"df-5c51e6fc-1118-4a77-b1a6-d27f26721931\" class=\"colab-df-container\">\n",
              "    <div>\n",
              "<style scoped>\n",
              "    .dataframe tbody tr th:only-of-type {\n",
              "        vertical-align: middle;\n",
              "    }\n",
              "\n",
              "    .dataframe tbody tr th {\n",
              "        vertical-align: top;\n",
              "    }\n",
              "\n",
              "    .dataframe thead th {\n",
              "        text-align: right;\n",
              "    }\n",
              "</style>\n",
              "<table border=\"1\" class=\"dataframe\">\n",
              "  <thead>\n",
              "    <tr style=\"text-align: right;\">\n",
              "      <th></th>\n",
              "      <th>review_body</th>\n",
              "      <th>star_rating</th>\n",
              "    </tr>\n",
              "  </thead>\n",
              "  <tbody>\n",
              "    <tr>\n",
              "      <th>0</th>\n",
              "      <td>Great product.</td>\n",
              "      <td>5</td>\n",
              "    </tr>\n",
              "    <tr>\n",
              "      <th>1</th>\n",
              "      <td>What's to say about this commodity item except...</td>\n",
              "      <td>5</td>\n",
              "    </tr>\n",
              "    <tr>\n",
              "      <th>2</th>\n",
              "      <td>Haven't used yet, but I am sure I will like it.</td>\n",
              "      <td>5</td>\n",
              "    </tr>\n",
              "    <tr>\n",
              "      <th>3</th>\n",
              "      <td>Although this was labeled as &amp;#34;new&amp;#34; the...</td>\n",
              "      <td>1</td>\n",
              "    </tr>\n",
              "    <tr>\n",
              "      <th>4</th>\n",
              "      <td>Gorgeous colors and easy to use</td>\n",
              "      <td>4</td>\n",
              "    </tr>\n",
              "    <tr>\n",
              "      <th>5</th>\n",
              "      <td>Perfect for planning weekly meals. Removrd the...</td>\n",
              "      <td>5</td>\n",
              "    </tr>\n",
              "    <tr>\n",
              "      <th>6</th>\n",
              "      <td>Gold plated fusers are the best! It will never...</td>\n",
              "      <td>5</td>\n",
              "    </tr>\n",
              "    <tr>\n",
              "      <th>7</th>\n",
              "      <td>I have used these highlighters for my bible fo...</td>\n",
              "      <td>5</td>\n",
              "    </tr>\n",
              "    <tr>\n",
              "      <th>8</th>\n",
              "      <td>Heavy pen that writes very well.  I've had it ...</td>\n",
              "      <td>5</td>\n",
              "    </tr>\n",
              "    <tr>\n",
              "      <th>9</th>\n",
              "      <td>Not sure if they work but sent quickly and fit...</td>\n",
              "      <td>5</td>\n",
              "    </tr>\n",
              "  </tbody>\n",
              "</table>\n",
              "</div>\n",
              "    <div class=\"colab-df-buttons\">\n",
              "\n",
              "  <div class=\"colab-df-container\">\n",
              "    <button class=\"colab-df-convert\" onclick=\"convertToInteractive('df-5c51e6fc-1118-4a77-b1a6-d27f26721931')\"\n",
              "            title=\"Convert this dataframe to an interactive table.\"\n",
              "            style=\"display:none;\">\n",
              "\n",
              "  <svg xmlns=\"http://www.w3.org/2000/svg\" height=\"24px\" viewBox=\"0 -960 960 960\">\n",
              "    <path d=\"M120-120v-720h720v720H120Zm60-500h600v-160H180v160Zm220 220h160v-160H400v160Zm0 220h160v-160H400v160ZM180-400h160v-160H180v160Zm440 0h160v-160H620v160ZM180-180h160v-160H180v160Zm440 0h160v-160H620v160Z\"/>\n",
              "  </svg>\n",
              "    </button>\n",
              "\n",
              "  <style>\n",
              "    .colab-df-container {\n",
              "      display:flex;\n",
              "      gap: 12px;\n",
              "    }\n",
              "\n",
              "    .colab-df-convert {\n",
              "      background-color: #E8F0FE;\n",
              "      border: none;\n",
              "      border-radius: 50%;\n",
              "      cursor: pointer;\n",
              "      display: none;\n",
              "      fill: #1967D2;\n",
              "      height: 32px;\n",
              "      padding: 0 0 0 0;\n",
              "      width: 32px;\n",
              "    }\n",
              "\n",
              "    .colab-df-convert:hover {\n",
              "      background-color: #E2EBFA;\n",
              "      box-shadow: 0px 1px 2px rgba(60, 64, 67, 0.3), 0px 1px 3px 1px rgba(60, 64, 67, 0.15);\n",
              "      fill: #174EA6;\n",
              "    }\n",
              "\n",
              "    .colab-df-buttons div {\n",
              "      margin-bottom: 4px;\n",
              "    }\n",
              "\n",
              "    [theme=dark] .colab-df-convert {\n",
              "      background-color: #3B4455;\n",
              "      fill: #D2E3FC;\n",
              "    }\n",
              "\n",
              "    [theme=dark] .colab-df-convert:hover {\n",
              "      background-color: #434B5C;\n",
              "      box-shadow: 0px 1px 3px 1px rgba(0, 0, 0, 0.15);\n",
              "      filter: drop-shadow(0px 1px 2px rgba(0, 0, 0, 0.3));\n",
              "      fill: #FFFFFF;\n",
              "    }\n",
              "  </style>\n",
              "\n",
              "    <script>\n",
              "      const buttonEl =\n",
              "        document.querySelector('#df-5c51e6fc-1118-4a77-b1a6-d27f26721931 button.colab-df-convert');\n",
              "      buttonEl.style.display =\n",
              "        google.colab.kernel.accessAllowed ? 'block' : 'none';\n",
              "\n",
              "      async function convertToInteractive(key) {\n",
              "        const element = document.querySelector('#df-5c51e6fc-1118-4a77-b1a6-d27f26721931');\n",
              "        const dataTable =\n",
              "          await google.colab.kernel.invokeFunction('convertToInteractive',\n",
              "                                                    [key], {});\n",
              "        if (!dataTable) return;\n",
              "\n",
              "        const docLinkHtml = 'Like what you see? Visit the ' +\n",
              "          '<a target=\"_blank\" href=https://colab.research.google.com/notebooks/data_table.ipynb>data table notebook</a>'\n",
              "          + ' to learn more about interactive tables.';\n",
              "        element.innerHTML = '';\n",
              "        dataTable['output_type'] = 'display_data';\n",
              "        await google.colab.output.renderOutput(dataTable, element);\n",
              "        const docLink = document.createElement('div');\n",
              "        docLink.innerHTML = docLinkHtml;\n",
              "        element.appendChild(docLink);\n",
              "      }\n",
              "    </script>\n",
              "  </div>\n",
              "\n",
              "\n",
              "<div id=\"df-c2a8f5f0-7bc3-4c18-96f6-3ddf80e89680\">\n",
              "  <button class=\"colab-df-quickchart\" onclick=\"quickchart('df-c2a8f5f0-7bc3-4c18-96f6-3ddf80e89680')\"\n",
              "            title=\"Suggest charts\"\n",
              "            style=\"display:none;\">\n",
              "\n",
              "<svg xmlns=\"http://www.w3.org/2000/svg\" height=\"24px\"viewBox=\"0 0 24 24\"\n",
              "     width=\"24px\">\n",
              "    <g>\n",
              "        <path d=\"M19 3H5c-1.1 0-2 .9-2 2v14c0 1.1.9 2 2 2h14c1.1 0 2-.9 2-2V5c0-1.1-.9-2-2-2zM9 17H7v-7h2v7zm4 0h-2V7h2v10zm4 0h-2v-4h2v4z\"/>\n",
              "    </g>\n",
              "</svg>\n",
              "  </button>\n",
              "\n",
              "<style>\n",
              "  .colab-df-quickchart {\n",
              "      --bg-color: #E8F0FE;\n",
              "      --fill-color: #1967D2;\n",
              "      --hover-bg-color: #E2EBFA;\n",
              "      --hover-fill-color: #174EA6;\n",
              "      --disabled-fill-color: #AAA;\n",
              "      --disabled-bg-color: #DDD;\n",
              "  }\n",
              "\n",
              "  [theme=dark] .colab-df-quickchart {\n",
              "      --bg-color: #3B4455;\n",
              "      --fill-color: #D2E3FC;\n",
              "      --hover-bg-color: #434B5C;\n",
              "      --hover-fill-color: #FFFFFF;\n",
              "      --disabled-bg-color: #3B4455;\n",
              "      --disabled-fill-color: #666;\n",
              "  }\n",
              "\n",
              "  .colab-df-quickchart {\n",
              "    background-color: var(--bg-color);\n",
              "    border: none;\n",
              "    border-radius: 50%;\n",
              "    cursor: pointer;\n",
              "    display: none;\n",
              "    fill: var(--fill-color);\n",
              "    height: 32px;\n",
              "    padding: 0;\n",
              "    width: 32px;\n",
              "  }\n",
              "\n",
              "  .colab-df-quickchart:hover {\n",
              "    background-color: var(--hover-bg-color);\n",
              "    box-shadow: 0 1px 2px rgba(60, 64, 67, 0.3), 0 1px 3px 1px rgba(60, 64, 67, 0.15);\n",
              "    fill: var(--button-hover-fill-color);\n",
              "  }\n",
              "\n",
              "  .colab-df-quickchart-complete:disabled,\n",
              "  .colab-df-quickchart-complete:disabled:hover {\n",
              "    background-color: var(--disabled-bg-color);\n",
              "    fill: var(--disabled-fill-color);\n",
              "    box-shadow: none;\n",
              "  }\n",
              "\n",
              "  .colab-df-spinner {\n",
              "    border: 2px solid var(--fill-color);\n",
              "    border-color: transparent;\n",
              "    border-bottom-color: var(--fill-color);\n",
              "    animation:\n",
              "      spin 1s steps(1) infinite;\n",
              "  }\n",
              "\n",
              "  @keyframes spin {\n",
              "    0% {\n",
              "      border-color: transparent;\n",
              "      border-bottom-color: var(--fill-color);\n",
              "      border-left-color: var(--fill-color);\n",
              "    }\n",
              "    20% {\n",
              "      border-color: transparent;\n",
              "      border-left-color: var(--fill-color);\n",
              "      border-top-color: var(--fill-color);\n",
              "    }\n",
              "    30% {\n",
              "      border-color: transparent;\n",
              "      border-left-color: var(--fill-color);\n",
              "      border-top-color: var(--fill-color);\n",
              "      border-right-color: var(--fill-color);\n",
              "    }\n",
              "    40% {\n",
              "      border-color: transparent;\n",
              "      border-right-color: var(--fill-color);\n",
              "      border-top-color: var(--fill-color);\n",
              "    }\n",
              "    60% {\n",
              "      border-color: transparent;\n",
              "      border-right-color: var(--fill-color);\n",
              "    }\n",
              "    80% {\n",
              "      border-color: transparent;\n",
              "      border-right-color: var(--fill-color);\n",
              "      border-bottom-color: var(--fill-color);\n",
              "    }\n",
              "    90% {\n",
              "      border-color: transparent;\n",
              "      border-bottom-color: var(--fill-color);\n",
              "    }\n",
              "  }\n",
              "</style>\n",
              "\n",
              "  <script>\n",
              "    async function quickchart(key) {\n",
              "      const quickchartButtonEl =\n",
              "        document.querySelector('#' + key + ' button');\n",
              "      quickchartButtonEl.disabled = true;  // To prevent multiple clicks.\n",
              "      quickchartButtonEl.classList.add('colab-df-spinner');\n",
              "      try {\n",
              "        const charts = await google.colab.kernel.invokeFunction(\n",
              "            'suggestCharts', [key], {});\n",
              "      } catch (error) {\n",
              "        console.error('Error during call to suggestCharts:', error);\n",
              "      }\n",
              "      quickchartButtonEl.classList.remove('colab-df-spinner');\n",
              "      quickchartButtonEl.classList.add('colab-df-quickchart-complete');\n",
              "    }\n",
              "    (() => {\n",
              "      let quickchartButtonEl =\n",
              "        document.querySelector('#df-c2a8f5f0-7bc3-4c18-96f6-3ddf80e89680 button');\n",
              "      quickchartButtonEl.style.display =\n",
              "        google.colab.kernel.accessAllowed ? 'block' : 'none';\n",
              "    })();\n",
              "  </script>\n",
              "</div>\n",
              "\n",
              "    </div>\n",
              "  </div>\n"
            ],
            "application/vnd.google.colaboratory.intrinsic+json": {
              "type": "dataframe",
              "variable_name": "data"
            }
          },
          "metadata": {},
          "execution_count": 33
        },
        {
          "output_type": "stream",
          "name": "stdout",
          "text": [
            "time: 93.6 ms (started: 2025-01-29 07:06:47 +00:00)\n"
          ]
        }
      ]
    },
    {
      "cell_type": "code",
      "source": [
        "sample_reviews = data.sample(3, random_state=ConfigValues.RANDOM_STATE_VALUE)\n",
        "for index, row in sample_reviews.iterrows():\n",
        "    print(f\"Review: {row['review_body']}\")\n",
        "    print(f\"Rating: {row['star_rating']}\")\n",
        "    print('-' * 80)\n"
      ],
      "metadata": {
        "colab": {
          "base_uri": "https://localhost:8080/"
        },
        "id": "2eIS5xPQrjjt",
        "outputId": "d0d416da-fe61-4273-fd72-29d76772fbeb"
      },
      "execution_count": 34,
      "outputs": [
        {
          "output_type": "stream",
          "name": "stdout",
          "text": [
            "Review: Works get\n",
            "Rating: 5\n",
            "--------------------------------------------------------------------------------\n",
            "Review: Can't handle most credit card solicitations , very poor shredder . Amazon puts it's name on this device it should of been tested more, at 1/2 it's price it might be okay for light shredding  abilities.\n",
            "Rating: 1\n",
            "--------------------------------------------------------------------------------\n",
            "Review: I was very pleased with the quality of Wilson Jones Insertable Binder Tab Dividers. They held together well and came with blank inserts for labeling.\n",
            "Rating: 5.0\n",
            "--------------------------------------------------------------------------------\n",
            "time: 177 ms (started: 2025-01-29 07:06:51 +00:00)\n"
          ]
        }
      ]
    },
    {
      "cell_type": "markdown",
      "source": [
        "### Handle Data inconsistency:\n",
        "\n",
        "- Drop data values with 'NaN'\n",
        "\n",
        "- Maintain uniform data type: convert 'star_rating' from 'str' to 'int'\n",
        "\n"
      ],
      "metadata": {
        "id": "VQybW91zWxTX"
      }
    },
    {
      "cell_type": "code",
      "source": [
        "# removing NaN colums\n",
        "data = data.dropna(subset=['review_body'])\n",
        "\n",
        "# due to data type inconsistency, converting star_rating to numeric,\n",
        "data['star_rating'] = pd.to_numeric(data['star_rating'], errors='coerce')\n",
        "data = data.dropna(subset=['star_rating'])\n",
        "\n",
        "# Count rating instances\n",
        "rating_counts = data['star_rating'].value_counts().sort_index()\n",
        "\n",
        "# Print stats\n",
        "print(\"Rating Statistics:\")\n",
        "for rating, count in rating_counts.items():\n",
        "    print(f\"Rating {rating}: {count} reviews\")\n"
      ],
      "metadata": {
        "colab": {
          "base_uri": "https://localhost:8080/"
        },
        "id": "UCsjK23Lr6ap",
        "outputId": "c57419ef-1148-412a-eb8c-bdfe910578da"
      },
      "execution_count": 35,
      "outputs": [
        {
          "output_type": "stream",
          "name": "stdout",
          "text": [
            "Rating Statistics:\n",
            "Rating 1.0: 306967 reviews\n",
            "Rating 2.0: 138381 reviews\n",
            "Rating 3.0: 193680 reviews\n",
            "Rating 4.0: 418348 reviews\n",
            "Rating 5.0: 1582704 reviews\n",
            "time: 1.37 s (started: 2025-01-29 07:06:57 +00:00)\n"
          ]
        }
      ]
    },
    {
      "cell_type": "markdown",
      "source": [
        "### Create Binary Classification & Map ratings:\n",
        "\n",
        "- Ratings > 3 --> Positive (`1`)\n",
        "\n",
        "- Ratings <= 2 --> Negative (`0`)\n",
        "\n",
        "- Drop ratings = 3.\n",
        "\n"
      ],
      "metadata": {
        "id": "enMnpf-agrIW"
      }
    },
    {
      "cell_type": "code",
      "source": [
        "# dataf = data.copy()\n",
        "neutral_count = (data['star_rating'] == 3).sum()\n",
        "data = data[data['star_rating'] != 3]\n",
        "data['sentiment'] = data['star_rating'].apply(lambda x : 1 if x > 3 else 0)\n",
        "\n",
        "# Count the number of reviews in each class\n",
        "positive_count = (data['sentiment'] == 1).sum()\n",
        "negative_count = (data['sentiment'] == 0).sum()\n",
        "\n",
        "# Print counts\n",
        "print(\"Positive reviews:\", positive_count)\n",
        "print(\"Negative reviews:\", negative_count)\n",
        "print(\"Neutral reviews (discarded):\", neutral_count)"
      ],
      "metadata": {
        "id": "NxmBoSdOg4aD",
        "colab": {
          "base_uri": "https://localhost:8080/"
        },
        "outputId": "0a8a98a9-4d49-4050-93c5-d679f3d5a8c7"
      },
      "execution_count": 36,
      "outputs": [
        {
          "output_type": "stream",
          "name": "stdout",
          "text": [
            "Positive reviews: 2001052\n",
            "Negative reviews: 445348\n",
            "Neutral reviews (discarded): 193680\n",
            "time: 1.14 s (started: 2025-01-29 07:07:08 +00:00)\n"
          ]
        }
      ]
    },
    {
      "cell_type": "code",
      "source": [
        "data.head(10)"
      ],
      "metadata": {
        "colab": {
          "base_uri": "https://localhost:8080/",
          "height": 380
        },
        "id": "ZLq8Vyqn0J-N",
        "outputId": "bca563b7-6307-4975-9d1c-a9f48607043b"
      },
      "execution_count": 37,
      "outputs": [
        {
          "output_type": "execute_result",
          "data": {
            "text/plain": [
              "                                         review_body  star_rating  sentiment\n",
              "0                                     Great product.          5.0          1\n",
              "1  What's to say about this commodity item except...          5.0          1\n",
              "2    Haven't used yet, but I am sure I will like it.          5.0          1\n",
              "3  Although this was labeled as &#34;new&#34; the...          1.0          0\n",
              "4                    Gorgeous colors and easy to use          4.0          1\n",
              "5  Perfect for planning weekly meals. Removrd the...          5.0          1\n",
              "6  Gold plated fusers are the best! It will never...          5.0          1\n",
              "7  I have used these highlighters for my bible fo...          5.0          1\n",
              "8  Heavy pen that writes very well.  I've had it ...          5.0          1\n",
              "9  Not sure if they work but sent quickly and fit...          5.0          1"
            ],
            "text/html": [
              "\n",
              "  <div id=\"df-5c5bdfc3-22f3-4ff3-b736-fc13eac50526\" class=\"colab-df-container\">\n",
              "    <div>\n",
              "<style scoped>\n",
              "    .dataframe tbody tr th:only-of-type {\n",
              "        vertical-align: middle;\n",
              "    }\n",
              "\n",
              "    .dataframe tbody tr th {\n",
              "        vertical-align: top;\n",
              "    }\n",
              "\n",
              "    .dataframe thead th {\n",
              "        text-align: right;\n",
              "    }\n",
              "</style>\n",
              "<table border=\"1\" class=\"dataframe\">\n",
              "  <thead>\n",
              "    <tr style=\"text-align: right;\">\n",
              "      <th></th>\n",
              "      <th>review_body</th>\n",
              "      <th>star_rating</th>\n",
              "      <th>sentiment</th>\n",
              "    </tr>\n",
              "  </thead>\n",
              "  <tbody>\n",
              "    <tr>\n",
              "      <th>0</th>\n",
              "      <td>Great product.</td>\n",
              "      <td>5.0</td>\n",
              "      <td>1</td>\n",
              "    </tr>\n",
              "    <tr>\n",
              "      <th>1</th>\n",
              "      <td>What's to say about this commodity item except...</td>\n",
              "      <td>5.0</td>\n",
              "      <td>1</td>\n",
              "    </tr>\n",
              "    <tr>\n",
              "      <th>2</th>\n",
              "      <td>Haven't used yet, but I am sure I will like it.</td>\n",
              "      <td>5.0</td>\n",
              "      <td>1</td>\n",
              "    </tr>\n",
              "    <tr>\n",
              "      <th>3</th>\n",
              "      <td>Although this was labeled as &amp;#34;new&amp;#34; the...</td>\n",
              "      <td>1.0</td>\n",
              "      <td>0</td>\n",
              "    </tr>\n",
              "    <tr>\n",
              "      <th>4</th>\n",
              "      <td>Gorgeous colors and easy to use</td>\n",
              "      <td>4.0</td>\n",
              "      <td>1</td>\n",
              "    </tr>\n",
              "    <tr>\n",
              "      <th>5</th>\n",
              "      <td>Perfect for planning weekly meals. Removrd the...</td>\n",
              "      <td>5.0</td>\n",
              "      <td>1</td>\n",
              "    </tr>\n",
              "    <tr>\n",
              "      <th>6</th>\n",
              "      <td>Gold plated fusers are the best! It will never...</td>\n",
              "      <td>5.0</td>\n",
              "      <td>1</td>\n",
              "    </tr>\n",
              "    <tr>\n",
              "      <th>7</th>\n",
              "      <td>I have used these highlighters for my bible fo...</td>\n",
              "      <td>5.0</td>\n",
              "      <td>1</td>\n",
              "    </tr>\n",
              "    <tr>\n",
              "      <th>8</th>\n",
              "      <td>Heavy pen that writes very well.  I've had it ...</td>\n",
              "      <td>5.0</td>\n",
              "      <td>1</td>\n",
              "    </tr>\n",
              "    <tr>\n",
              "      <th>9</th>\n",
              "      <td>Not sure if they work but sent quickly and fit...</td>\n",
              "      <td>5.0</td>\n",
              "      <td>1</td>\n",
              "    </tr>\n",
              "  </tbody>\n",
              "</table>\n",
              "</div>\n",
              "    <div class=\"colab-df-buttons\">\n",
              "\n",
              "  <div class=\"colab-df-container\">\n",
              "    <button class=\"colab-df-convert\" onclick=\"convertToInteractive('df-5c5bdfc3-22f3-4ff3-b736-fc13eac50526')\"\n",
              "            title=\"Convert this dataframe to an interactive table.\"\n",
              "            style=\"display:none;\">\n",
              "\n",
              "  <svg xmlns=\"http://www.w3.org/2000/svg\" height=\"24px\" viewBox=\"0 -960 960 960\">\n",
              "    <path d=\"M120-120v-720h720v720H120Zm60-500h600v-160H180v160Zm220 220h160v-160H400v160Zm0 220h160v-160H400v160ZM180-400h160v-160H180v160Zm440 0h160v-160H620v160ZM180-180h160v-160H180v160Zm440 0h160v-160H620v160Z\"/>\n",
              "  </svg>\n",
              "    </button>\n",
              "\n",
              "  <style>\n",
              "    .colab-df-container {\n",
              "      display:flex;\n",
              "      gap: 12px;\n",
              "    }\n",
              "\n",
              "    .colab-df-convert {\n",
              "      background-color: #E8F0FE;\n",
              "      border: none;\n",
              "      border-radius: 50%;\n",
              "      cursor: pointer;\n",
              "      display: none;\n",
              "      fill: #1967D2;\n",
              "      height: 32px;\n",
              "      padding: 0 0 0 0;\n",
              "      width: 32px;\n",
              "    }\n",
              "\n",
              "    .colab-df-convert:hover {\n",
              "      background-color: #E2EBFA;\n",
              "      box-shadow: 0px 1px 2px rgba(60, 64, 67, 0.3), 0px 1px 3px 1px rgba(60, 64, 67, 0.15);\n",
              "      fill: #174EA6;\n",
              "    }\n",
              "\n",
              "    .colab-df-buttons div {\n",
              "      margin-bottom: 4px;\n",
              "    }\n",
              "\n",
              "    [theme=dark] .colab-df-convert {\n",
              "      background-color: #3B4455;\n",
              "      fill: #D2E3FC;\n",
              "    }\n",
              "\n",
              "    [theme=dark] .colab-df-convert:hover {\n",
              "      background-color: #434B5C;\n",
              "      box-shadow: 0px 1px 3px 1px rgba(0, 0, 0, 0.15);\n",
              "      filter: drop-shadow(0px 1px 2px rgba(0, 0, 0, 0.3));\n",
              "      fill: #FFFFFF;\n",
              "    }\n",
              "  </style>\n",
              "\n",
              "    <script>\n",
              "      const buttonEl =\n",
              "        document.querySelector('#df-5c5bdfc3-22f3-4ff3-b736-fc13eac50526 button.colab-df-convert');\n",
              "      buttonEl.style.display =\n",
              "        google.colab.kernel.accessAllowed ? 'block' : 'none';\n",
              "\n",
              "      async function convertToInteractive(key) {\n",
              "        const element = document.querySelector('#df-5c5bdfc3-22f3-4ff3-b736-fc13eac50526');\n",
              "        const dataTable =\n",
              "          await google.colab.kernel.invokeFunction('convertToInteractive',\n",
              "                                                    [key], {});\n",
              "        if (!dataTable) return;\n",
              "\n",
              "        const docLinkHtml = 'Like what you see? Visit the ' +\n",
              "          '<a target=\"_blank\" href=https://colab.research.google.com/notebooks/data_table.ipynb>data table notebook</a>'\n",
              "          + ' to learn more about interactive tables.';\n",
              "        element.innerHTML = '';\n",
              "        dataTable['output_type'] = 'display_data';\n",
              "        await google.colab.output.renderOutput(dataTable, element);\n",
              "        const docLink = document.createElement('div');\n",
              "        docLink.innerHTML = docLinkHtml;\n",
              "        element.appendChild(docLink);\n",
              "      }\n",
              "    </script>\n",
              "  </div>\n",
              "\n",
              "\n",
              "<div id=\"df-39c1fdff-1830-4f50-9f52-b6fbdd9453fd\">\n",
              "  <button class=\"colab-df-quickchart\" onclick=\"quickchart('df-39c1fdff-1830-4f50-9f52-b6fbdd9453fd')\"\n",
              "            title=\"Suggest charts\"\n",
              "            style=\"display:none;\">\n",
              "\n",
              "<svg xmlns=\"http://www.w3.org/2000/svg\" height=\"24px\"viewBox=\"0 0 24 24\"\n",
              "     width=\"24px\">\n",
              "    <g>\n",
              "        <path d=\"M19 3H5c-1.1 0-2 .9-2 2v14c0 1.1.9 2 2 2h14c1.1 0 2-.9 2-2V5c0-1.1-.9-2-2-2zM9 17H7v-7h2v7zm4 0h-2V7h2v10zm4 0h-2v-4h2v4z\"/>\n",
              "    </g>\n",
              "</svg>\n",
              "  </button>\n",
              "\n",
              "<style>\n",
              "  .colab-df-quickchart {\n",
              "      --bg-color: #E8F0FE;\n",
              "      --fill-color: #1967D2;\n",
              "      --hover-bg-color: #E2EBFA;\n",
              "      --hover-fill-color: #174EA6;\n",
              "      --disabled-fill-color: #AAA;\n",
              "      --disabled-bg-color: #DDD;\n",
              "  }\n",
              "\n",
              "  [theme=dark] .colab-df-quickchart {\n",
              "      --bg-color: #3B4455;\n",
              "      --fill-color: #D2E3FC;\n",
              "      --hover-bg-color: #434B5C;\n",
              "      --hover-fill-color: #FFFFFF;\n",
              "      --disabled-bg-color: #3B4455;\n",
              "      --disabled-fill-color: #666;\n",
              "  }\n",
              "\n",
              "  .colab-df-quickchart {\n",
              "    background-color: var(--bg-color);\n",
              "    border: none;\n",
              "    border-radius: 50%;\n",
              "    cursor: pointer;\n",
              "    display: none;\n",
              "    fill: var(--fill-color);\n",
              "    height: 32px;\n",
              "    padding: 0;\n",
              "    width: 32px;\n",
              "  }\n",
              "\n",
              "  .colab-df-quickchart:hover {\n",
              "    background-color: var(--hover-bg-color);\n",
              "    box-shadow: 0 1px 2px rgba(60, 64, 67, 0.3), 0 1px 3px 1px rgba(60, 64, 67, 0.15);\n",
              "    fill: var(--button-hover-fill-color);\n",
              "  }\n",
              "\n",
              "  .colab-df-quickchart-complete:disabled,\n",
              "  .colab-df-quickchart-complete:disabled:hover {\n",
              "    background-color: var(--disabled-bg-color);\n",
              "    fill: var(--disabled-fill-color);\n",
              "    box-shadow: none;\n",
              "  }\n",
              "\n",
              "  .colab-df-spinner {\n",
              "    border: 2px solid var(--fill-color);\n",
              "    border-color: transparent;\n",
              "    border-bottom-color: var(--fill-color);\n",
              "    animation:\n",
              "      spin 1s steps(1) infinite;\n",
              "  }\n",
              "\n",
              "  @keyframes spin {\n",
              "    0% {\n",
              "      border-color: transparent;\n",
              "      border-bottom-color: var(--fill-color);\n",
              "      border-left-color: var(--fill-color);\n",
              "    }\n",
              "    20% {\n",
              "      border-color: transparent;\n",
              "      border-left-color: var(--fill-color);\n",
              "      border-top-color: var(--fill-color);\n",
              "    }\n",
              "    30% {\n",
              "      border-color: transparent;\n",
              "      border-left-color: var(--fill-color);\n",
              "      border-top-color: var(--fill-color);\n",
              "      border-right-color: var(--fill-color);\n",
              "    }\n",
              "    40% {\n",
              "      border-color: transparent;\n",
              "      border-right-color: var(--fill-color);\n",
              "      border-top-color: var(--fill-color);\n",
              "    }\n",
              "    60% {\n",
              "      border-color: transparent;\n",
              "      border-right-color: var(--fill-color);\n",
              "    }\n",
              "    80% {\n",
              "      border-color: transparent;\n",
              "      border-right-color: var(--fill-color);\n",
              "      border-bottom-color: var(--fill-color);\n",
              "    }\n",
              "    90% {\n",
              "      border-color: transparent;\n",
              "      border-bottom-color: var(--fill-color);\n",
              "    }\n",
              "  }\n",
              "</style>\n",
              "\n",
              "  <script>\n",
              "    async function quickchart(key) {\n",
              "      const quickchartButtonEl =\n",
              "        document.querySelector('#' + key + ' button');\n",
              "      quickchartButtonEl.disabled = true;  // To prevent multiple clicks.\n",
              "      quickchartButtonEl.classList.add('colab-df-spinner');\n",
              "      try {\n",
              "        const charts = await google.colab.kernel.invokeFunction(\n",
              "            'suggestCharts', [key], {});\n",
              "      } catch (error) {\n",
              "        console.error('Error during call to suggestCharts:', error);\n",
              "      }\n",
              "      quickchartButtonEl.classList.remove('colab-df-spinner');\n",
              "      quickchartButtonEl.classList.add('colab-df-quickchart-complete');\n",
              "    }\n",
              "    (() => {\n",
              "      let quickchartButtonEl =\n",
              "        document.querySelector('#df-39c1fdff-1830-4f50-9f52-b6fbdd9453fd button');\n",
              "      quickchartButtonEl.style.display =\n",
              "        google.colab.kernel.accessAllowed ? 'block' : 'none';\n",
              "    })();\n",
              "  </script>\n",
              "</div>\n",
              "\n",
              "    </div>\n",
              "  </div>\n"
            ],
            "application/vnd.google.colaboratory.intrinsic+json": {
              "type": "dataframe",
              "variable_name": "data"
            }
          },
          "metadata": {},
          "execution_count": 37
        },
        {
          "output_type": "stream",
          "name": "stdout",
          "text": [
            "time: 9.4 ms (started: 2025-01-29 07:07:30 +00:00)\n"
          ]
        }
      ]
    },
    {
      "cell_type": "markdown",
      "metadata": {
        "id": "BKyc82yjbHNd"
      },
      "source": [
        " - randomly sample 100000 +ve & -ve reviews\n",
        "\n",
        "- shuffle with some random_state value for variation.\n",
        "\n"
      ]
    },
    {
      "cell_type": "code",
      "execution_count": 38,
      "metadata": {
        "id": "EoeZnRqubHNd",
        "colab": {
          "base_uri": "https://localhost:8080/"
        },
        "outputId": "caf30ef8-9e70-4efb-c17d-44d691093513"
      },
      "outputs": [
        {
          "output_type": "stream",
          "name": "stdout",
          "text": [
            "time: 635 ms (started: 2025-01-29 07:07:38 +00:00)\n"
          ]
        }
      ],
      "source": [
        "positive_reviews = data[data['sentiment'] == 1].sample(\n",
        "    n=min(100000, len(data[data['sentiment'] == 1])), random_state=ConfigValues.RANDOM_STATE_VALUE\n",
        ")\n",
        "negative_reviews = data[data['sentiment'] == 0].sample(\n",
        "    n=min(100000, len(data[data['sentiment'] == 0])), random_state=ConfigValues.RANDOM_STATE_VALUE\n",
        ")\n",
        "\n",
        "my_downsized_data = pd.concat([positive_reviews, negative_reviews]).sample(\n",
        "    frac=1, random_state=ConfigValues.RANDOM_STATE_VALUE\n",
        ").reset_index(drop=True)"
      ]
    },
    {
      "cell_type": "markdown",
      "source": [
        "##### Split the dataset into Train:Test = 80:20 and perform further data cleaning & preprocessing tasks on both\n"
      ],
      "metadata": {
        "id": "NDaIi7IDXzlt"
      }
    },
    {
      "cell_type": "code",
      "source": [
        "# Split data\n",
        "my_downsized_data = my_downsized_data.dropna(subset=['review_body', 'sentiment'])\n",
        "x_train, x_test, y_train, y_test = train_test_split(my_downsized_data['review_body'], my_downsized_data['sentiment'], test_size=0.2, random_state=ConfigValues.RANDOM_STATE_VALUE)"
      ],
      "metadata": {
        "id": "0hj-blXOkkAM",
        "colab": {
          "base_uri": "https://localhost:8080/"
        },
        "outputId": "c0f7d675-9fb3-410b-8d36-4defebb54c50"
      },
      "execution_count": 39,
      "outputs": [
        {
          "output_type": "stream",
          "name": "stdout",
          "text": [
            "time: 97.6 ms (started: 2025-01-29 07:07:48 +00:00)\n"
          ]
        }
      ]
    },
    {
      "cell_type": "markdown",
      "metadata": {
        "id": "nR5fH4nNbHNd"
      },
      "source": [
        "# Data Cleaning\n",
        "\n",
        "Using regex expressions to match and replace the below items with empty strings:\n",
        "- change all to lower case\n",
        "\n",
        "- URLs\n",
        "\n",
        "- emails\n",
        "\n",
        "- HTML tags\n",
        "\n",
        "- punctuations\n",
        "\n",
        "- extra spaces\n",
        "\n",
        "- special / non-alphabetical characters\n",
        "\n"
      ]
    },
    {
      "cell_type": "code",
      "source": [
        "# converting to lower case\n",
        "x_train = x_train.str.lower()\n",
        "x_test = x_test.str.lower()"
      ],
      "metadata": {
        "id": "lEsO_FgHlFSx",
        "colab": {
          "base_uri": "https://localhost:8080/"
        },
        "outputId": "dc96b8ec-7d3d-44b9-9dc3-075b520e8747"
      },
      "execution_count": 40,
      "outputs": [
        {
          "output_type": "stream",
          "name": "stdout",
          "text": [
            "time: 270 ms (started: 2025-01-29 07:07:52 +00:00)\n"
          ]
        }
      ]
    },
    {
      "cell_type": "code",
      "source": [
        "# removing html tags and url\n",
        "def remove_html_urls(text):\n",
        "  text = BeautifulSoup(text, \"html.parser\").get_text()\n",
        "  text = re.sub(r'https?://\\S+|www\\.\\S+', '', text)\n",
        "  return text\n",
        "\n",
        "x_train = x_train.apply(remove_html_urls)\n",
        "x_test = x_test.apply(remove_html_urls)"
      ],
      "metadata": {
        "colab": {
          "base_uri": "https://localhost:8080/"
        },
        "id": "1_vtyAWUlSog",
        "outputId": "48cd8243-880d-41da-e537-5ea92d8bcc89"
      },
      "execution_count": 41,
      "outputs": [
        {
          "output_type": "stream",
          "name": "stderr",
          "text": [
            "<ipython-input-41-a8512a3a39ca>:3: MarkupResemblesLocatorWarning: The input looks more like a filename than markup. You may want to open this file and pass the filehandle into Beautiful Soup.\n",
            "  text = BeautifulSoup(text, \"html.parser\").get_text()\n",
            "<ipython-input-41-a8512a3a39ca>:3: MarkupResemblesLocatorWarning: The input looks more like a URL than markup. You may want to use an HTTP client like requests to get the document behind the URL, and feed that document to Beautiful Soup.\n",
            "  text = BeautifulSoup(text, \"html.parser\").get_text()\n"
          ]
        },
        {
          "output_type": "stream",
          "name": "stdout",
          "text": [
            "time: 12.9 s (started: 2025-01-29 07:08:01 +00:00)\n"
          ]
        }
      ]
    },
    {
      "cell_type": "code",
      "source": [
        "# remove spaces, special characters, email addresses\n",
        "def remove_space_characters(text):\n",
        "  text = re.sub(r'\\s+', ' ', text)\n",
        "  text = re.sub(r'[^a-zA-Z\\s]', '', text)\n",
        "  text = re.sub(r'[a-zA-Z0-9_\\-\\.]+@[a-zA-Z0-9_\\-\\.]+\\.[a-zA-Z]{2,5}', ' ', text)\n",
        "  return text\n",
        "\n",
        "x_train = x_train.apply(remove_space_characters)\n",
        "x_test = x_test.apply(remove_space_characters)"
      ],
      "metadata": {
        "id": "wzo9MphDolQV",
        "colab": {
          "base_uri": "https://localhost:8080/"
        },
        "outputId": "3770eabe-c473-4057-be7c-956379bbea0e"
      },
      "execution_count": 42,
      "outputs": [
        {
          "output_type": "stream",
          "name": "stdout",
          "text": [
            "time: 8.94 s (started: 2025-01-29 07:08:19 +00:00)\n"
          ]
        }
      ]
    },
    {
      "cell_type": "code",
      "source": [
        "# contractions\n",
        "data['review_body'] = data['review_body'].apply(lambda x: contractions.fix(x))\n",
        "print(data['review_body'].sample(10))"
      ],
      "metadata": {
        "colab": {
          "base_uri": "https://localhost:8080/"
        },
        "id": "W0iwiMtapQRl",
        "outputId": "68377338-b449-45e9-f87e-cb6ddc19a2e1"
      },
      "execution_count": 43,
      "outputs": [
        {
          "output_type": "stream",
          "name": "stdout",
          "text": [
            "1663656    Terrific, well-designed planner that holds up ...\n",
            "1230119    Inconsistant. Printing makes noise and printer...\n",
            "1887230    I must admit that the setup was not as direct ...\n",
            "1851540    I have given this as a gift, and it has always...\n",
            "1021007                                                 good\n",
            "146524     Great colors, flexibility of color depending o...\n",
            "2455899    Just like another reviewer, after replacing th...\n",
            "142486                                                  Good\n",
            "1045828    O.M.G. Seriously?  They work PERFECTLY.  I am ...\n",
            "241791                  Exactly what I needed.  Perfect fit.\n",
            "Name: review_body, dtype: object\n",
            "time: 49.1 s (started: 2025-01-29 07:08:58 +00:00)\n"
          ]
        }
      ]
    },
    {
      "cell_type": "code",
      "source": [
        "# Report avg length before/after cleaning\n",
        "avg_length_before_cln = my_downsized_data['review_body'].str.len().mean()\n",
        "avg_length_after_cln = x_train.str.len().mean()\n",
        "print(f\"Average length before cleaning: {avg_length_before_cln:.4f}\")\n",
        "print(f\"Average length after cleaning: {avg_length_after_cln:.4f}\")"
      ],
      "metadata": {
        "colab": {
          "base_uri": "https://localhost:8080/"
        },
        "id": "yJG4tA3fvwg_",
        "outputId": "1110c92e-e3f6-4624-e458-4370f3716310"
      },
      "execution_count": 46,
      "outputs": [
        {
          "output_type": "stream",
          "name": "stdout",
          "text": [
            "Average length before cleaning: 318.0072\n",
            "Average length after cleaning: 301.1237\n",
            "time: 333 ms (started: 2025-01-29 07:10:55 +00:00)\n"
          ]
        }
      ]
    },
    {
      "cell_type": "markdown",
      "metadata": {
        "id": "wBf4YveabHNd"
      },
      "source": [
        "# Pre-processing"
      ]
    },
    {
      "cell_type": "markdown",
      "metadata": {
        "id": "Mlvw6yNLbHNd"
      },
      "source": [
        "## remove the stop words"
      ]
    },
    {
      "cell_type": "code",
      "execution_count": 47,
      "metadata": {
        "id": "Ln7iK9YubHNe",
        "colab": {
          "base_uri": "https://localhost:8080/"
        },
        "outputId": "dc2ff058-dad9-4ceb-810b-daa1e57c45dc"
      },
      "outputs": [
        {
          "output_type": "stream",
          "name": "stdout",
          "text": [
            "time: 1min 10s (started: 2025-01-29 07:11:45 +00:00)\n"
          ]
        }
      ],
      "source": [
        "# from nltk.corpus import stopwords\n",
        " # removing stop words\n",
        "stop_owrds = set(stopwords.words('english'))\n",
        "# handle negatove words\n",
        "negitive_words = ['nor', 'no', 'not', 'none', 'nowhere' 'never', 'neither', 'nobody']\n",
        "refined_stopwords = [word for word in stop_owrds if word not in negitive_words]\n",
        "def remove_stop_words(text):\n",
        "  words = word_tokenize(text)\n",
        "  filtered_words = [word for word in words if word.lower() not in refined_stopwords]\n",
        "  return ' '.join(filtered_words)\n",
        "\n",
        "x_train = x_train.apply(remove_stop_words)\n",
        "x_test = x_test.apply(remove_stop_words)"
      ]
    },
    {
      "cell_type": "markdown",
      "metadata": {
        "id": "JezSh12IbHNe"
      },
      "source": [
        "## perform lemmatization  "
      ]
    },
    {
      "cell_type": "code",
      "execution_count": 48,
      "metadata": {
        "id": "s4onUv8ybHNe",
        "colab": {
          "base_uri": "https://localhost:8080/"
        },
        "outputId": "a235c9f8-418b-4bbf-d6ec-6fe7e94961e9"
      },
      "outputs": [
        {
          "output_type": "stream",
          "name": "stdout",
          "text": [
            "time: 1min 3s (started: 2025-01-29 07:13:15 +00:00)\n"
          ]
        }
      ],
      "source": [
        "# from nltk.stem import WordNetLemmatizer\n",
        "lemmatizer = WordNetLemmatizer()\n",
        "def lemmatize_text(text):\n",
        "  words = word_tokenize(text)\n",
        "  lemmatized_words = [lemmatizer.lemmatize(word) for word in words]\n",
        "  return ' '.join(lemmatized_words)\n",
        "\n",
        "x_train = x_train.apply(lemmatize_text)\n",
        "x_test = x_test.apply(lemmatize_text)"
      ]
    },
    {
      "cell_type": "code",
      "source": [
        "# print avg length before/after cleaning + processing\n",
        "avg_length_before_cln = my_downsized_data['review_body'].str.len().mean()\n",
        "avg_length_after_cln = x_train.str.len().mean()\n",
        "print(f\"Average length before cleaning + processing: {avg_length_before_cln:.4f}\")\n",
        "print(f\"Average length after cleaning + processing: {avg_length_after_cln:.4f}\")"
      ],
      "metadata": {
        "colab": {
          "base_uri": "https://localhost:8080/"
        },
        "id": "RMVHWfzuyhC9",
        "outputId": "bc896a00-f992-4972-827b-27881e12919b"
      },
      "execution_count": 49,
      "outputs": [
        {
          "output_type": "stream",
          "name": "stdout",
          "text": [
            "Average length before cleaning + processing: 318.0072\n",
            "Average length after cleaning + processing: 194.0846\n",
            "time: 212 ms (started: 2025-01-29 07:14:22 +00:00)\n"
          ]
        }
      ]
    },
    {
      "cell_type": "markdown",
      "metadata": {
        "id": "HtYaG_ULbHNe"
      },
      "source": [
        "# TF-IDF Feature Extraction"
      ]
    },
    {
      "cell_type": "code",
      "source": [
        "vectorizer = TfidfVectorizer(max_features=ConfigValues.MAX_TFIDF_FEATURES, stop_words='english',max_df=0.95,min_df=2)\n",
        "x_train_tfidf = vectorizer.fit_transform(x_train)\n",
        "x_test_tfidf = vectorizer.transform(x_test)\n",
        "print(f\"Total number of features extracted: {x_train_tfidf.shape[1]}\")"
      ],
      "metadata": {
        "colab": {
          "base_uri": "https://localhost:8080/"
        },
        "id": "jxXAeFCKz5Pz",
        "outputId": "472e7372-caea-488d-8c3f-daed0a1b11b5"
      },
      "execution_count": 50,
      "outputs": [
        {
          "output_type": "stream",
          "name": "stdout",
          "text": [
            "Total number of features extracted: 45000\n",
            "time: 5.47 s (started: 2025-01-29 07:14:44 +00:00)\n"
          ]
        }
      ]
    },
    {
      "cell_type": "markdown",
      "metadata": {
        "id": "DrqcItWtbHNe"
      },
      "source": [
        "# Perceptron\n",
        "\n",
        "For hyperparameter tuning,\n",
        "\n",
        "max_iter - shows number of epochs\n",
        "\n",
        "alpha - intensity of regualarization in case of penalty\n",
        "\n",
        "penalty - controls model's penalty in case of larger weights"
      ]
    },
    {
      "cell_type": "code",
      "execution_count": 54,
      "metadata": {
        "colab": {
          "base_uri": "https://localhost:8080/"
        },
        "id": "qehe8ba5bHNe",
        "outputId": "ddaf1b4a-9fc2-40c9-95f0-8616eb5d1887"
      },
      "outputs": [
        {
          "output_type": "stream",
          "name": "stdout",
          "text": [
            "Perceptron - Training Data Accuracy: 0.8523\n",
            "Perceptron - Training Data Precision: 0.8615\n",
            "Perceptron - Training Data Recall: 0.8391\n",
            "Perceptron - Training Data F1-Score: 0.8501\n",
            "Perceptron - Testing Data Accuracy: 0.8490\n",
            "Perceptron - Testing Data Precision: 0.8585\n",
            "Perceptron - Testing Data Recall: 0.8376\n",
            "Perceptron - Testing Data F1-Score: 0.8479\n",
            "time: 51.3 s (started: 2025-01-29 07:30:34 +00:00)\n"
          ]
        }
      ],
      "source": [
        "# Hyperparameter tuning for Perceptron\n",
        "param_grid = {\n",
        "    'penalty': ['l2', 'elasticnet'],\n",
        "    'alpha': [0.00005, 0.0001, 0.001, 0.005],\n",
        "    'max_iter': [2000, 3000, 5000, 7000]\n",
        "}\n",
        "\n",
        "perceptron = Perceptron()\n",
        "percp_grid_search = GridSearchCV(perceptron, param_grid, scoring='accuracy', cv=5, n_jobs=-1)\n",
        "percp_grid_search.fit(x_train_tfidf, y_train)\n",
        "\n",
        "# Best parameters and model\n",
        "best_params = percp_grid_search.best_params_\n",
        "best_perceptron = percp_grid_search.best_estimator_\n",
        "\n",
        "# Predictions for train/test\n",
        "train_predictions = best_perceptron.predict(x_train_tfidf)\n",
        "test_predictions = best_perceptron.predict(x_test_tfidf)\n",
        "\n",
        "# Metrics for training data\n",
        "print(f\"Perceptron - Training Data Accuracy: {accuracy_score(y_train, train_predictions):.4f}\")\n",
        "print(f\"Perceptron - Training Data Precision: {precision_score(y_train, train_predictions):.4f}\")\n",
        "print(f\"Perceptron - Training Data Recall: {recall_score(y_train, train_predictions):.4f}\")\n",
        "print(f\"Perceptron - Training Data F1-Score: {f1_score(y_train, train_predictions):.4f}\")\n",
        "\n",
        "# Metrics for test data\n",
        "print(f\"Perceptron - Testing Data Accuracy: {accuracy_score(y_test, test_predictions):.4f}\")\n",
        "print(f\"Perceptron - Testing Data Precision: {precision_score(y_test, test_predictions):.4f}\")\n",
        "print(f\"Perceptron - Testing Data Recall: {recall_score(y_test, test_predictions):.4f}\")\n",
        "print(f\"Perceptron - Testing Data F1-Score: {f1_score(y_test, test_predictions):.4f}\")"
      ]
    },
    {
      "cell_type": "markdown",
      "metadata": {
        "id": "ROByNUsxbHNe"
      },
      "source": [
        "# SVM\n",
        "\n",
        "- C : Regularization intensity, to help balance overfitting/underfitting\n",
        "\n",
        "- max_iter - shows number of epochs\n",
        "\n",
        "- loss : loss functions"
      ]
    },
    {
      "cell_type": "code",
      "source": [
        "# Hyperparameter tuning for LinearSVC\n",
        "param_grid = {\n",
        "    'C': [0.1, 1, 10],\n",
        "    'max_iter': [1000, 3000],\n",
        "    'loss': ['squared_hinge'],\n",
        "}\n",
        "\n",
        "# Build & train LinearSVC\n",
        "my_linear_svc = LinearSVC(random_state=ConfigValues.RANDOM_STATE_VALUE, dual=False)\n",
        "svc_grid_search = GridSearchCV(my_linear_svc, param_grid, scoring='accuracy', cv=5, n_jobs=-1)\n",
        "svc_grid_search.fit(x_train_tfidf, y_train)\n",
        "\n",
        "# Best parameters and model\n",
        "best_params = svc_grid_search.best_params_\n",
        "best_linear_svc = svc_grid_search.best_estimator_\n",
        "\n",
        "# Predictions for train/test\n",
        "train_predictions = best_linear_svc.predict(x_train_tfidf)\n",
        "test_predictions = best_linear_svc.predict(x_test_tfidf)\n",
        "\n",
        "# Metrics for training data\n",
        "print(f\"LinearSVC - Training Data Accuracy: {accuracy_score(y_train, train_predictions):.4f}\")\n",
        "print(f\"LinearSVC - Training Data Precision: {precision_score(y_train, train_predictions):.4f}\")\n",
        "print(f\"LinearSVC - Training Data Recall: {recall_score(y_train, train_predictions):.4f}\")\n",
        "print(f\"LinearSVC - Training Data F1-Score: {f1_score(y_train, train_predictions):.4f}\")\n",
        "\n",
        "# Metrics for test data\n",
        "print(f\"LinearSVC - Testing Data Accuracy: {accuracy_score(y_test, test_predictions):.4f}\")\n",
        "print(f\"LinearSVC - Testing Data Precision: {precision_score(y_test, test_predictions):.4f}\")\n",
        "print(f\"LinearSVC - Testing Data Recall: {recall_score(y_test, test_predictions):.4f}\")\n",
        "print(f\"LinearSVC - Testing Data F1-Score: {f1_score(y_test, test_predictions):.4f}\")\n"
      ],
      "metadata": {
        "colab": {
          "base_uri": "https://localhost:8080/"
        },
        "id": "bAFS0o-W0oDl",
        "outputId": "d53e530c-7937-4a32-a260-0ea96aab3ddc"
      },
      "execution_count": 58,
      "outputs": [
        {
          "output_type": "stream",
          "name": "stdout",
          "text": [
            "LinearSVC - Training Data Accuracy: 0.9247\n",
            "LinearSVC - Training Data Precision: 0.9278\n",
            "LinearSVC - Training Data Recall: 0.9208\n",
            "LinearSVC - Training Data F1-Score: 0.9243\n",
            "LinearSVC - Testing Data Accuracy: 0.9124\n",
            "LinearSVC - Testing Data Precision: 0.9144\n",
            "LinearSVC - Testing Data Recall: 0.9109\n",
            "LinearSVC - Testing Data F1-Score: 0.9126\n",
            "time: 2min 15s (started: 2025-01-29 07:53:04 +00:00)\n"
          ]
        }
      ]
    },
    {
      "cell_type": "markdown",
      "metadata": {
        "id": "ewQ0KVjibHNe"
      },
      "source": [
        "# Logistic Regression"
      ]
    },
    {
      "cell_type": "code",
      "execution_count": 59,
      "metadata": {
        "id": "cuFDAaAtbHNe",
        "colab": {
          "base_uri": "https://localhost:8080/"
        },
        "outputId": "d15a5979-d815-4d3d-e20b-7a82a63fed20"
      },
      "outputs": [
        {
          "output_type": "stream",
          "name": "stdout",
          "text": [
            "Logistic Reg - Training Data Accuracy: 0.9212\n",
            "Logistic Reg - Training Data Precision: 0.9236\n",
            "Logistic Reg - Training Data Recall: 0.9182\n",
            "Logistic Reg - Training Data F1-Score: 0.9209\n",
            "Logistic Reg - Testing Data Accuracy: 0.9122\n",
            "Logistic Reg - Testing Data Precision: 0.9134\n",
            "Logistic Reg - Testing Data Recall: 0.9116\n",
            "Logistic Reg - Testing Data F1-Score: 0.9125\n",
            "time: 3.79 s (started: 2025-01-29 07:56:39 +00:00)\n"
          ]
        }
      ],
      "source": [
        "my_logistic_model = LogisticRegression()\n",
        "my_logistic_model.fit(x_train_tfidf, y_train)\n",
        "\n",
        "# predictions for train/test\n",
        "lr_train_predictions = my_logistic_model.predict(x_train_tfidf)\n",
        "lr_test_predictions = my_logistic_model.predict(x_test_tfidf)\n",
        "\n",
        "# metrics for training data\n",
        "print(f\"Logistic Reg - Training Data Accuracy: {accuracy_score(y_train, lr_train_predictions):.4f}\")\n",
        "print(f\"Logistic Reg - Training Data Precision: {precision_score(y_train, lr_train_predictions):.4f}\")\n",
        "print(f\"Logistic Reg - Training Data Recall: {recall_score(y_train, lr_train_predictions):.4f}\")\n",
        "print(f\"Logistic Reg - Training Data F1-Score: {f1_score(y_train, lr_train_predictions):.4f}\")\n",
        "\n",
        "# metrics for test data\n",
        "print(f\"Logistic Reg - Testing Data Accuracy: {accuracy_score(y_test, lr_test_predictions):.4f}\")\n",
        "print(f\"Logistic Reg - Testing Data Precision: {precision_score(y_test, lr_test_predictions):.4f}\")\n",
        "print(f\"Logistic Reg - Testing Data Recall: {recall_score(y_test, lr_test_predictions):.4f}\")\n",
        "print(f\"Logistic Reg - Testing Data F1-Score: {f1_score(y_test, lr_test_predictions):.4f}\")"
      ]
    },
    {
      "cell_type": "markdown",
      "metadata": {
        "id": "uTvLkSMvbHNe"
      },
      "source": [
        "# Naive Bayes"
      ]
    },
    {
      "cell_type": "code",
      "execution_count": 60,
      "metadata": {
        "id": "0oXRCjSHbHNe",
        "colab": {
          "base_uri": "https://localhost:8080/"
        },
        "outputId": "18abab9c-c76f-4f97-ccb7-24dccddeff65"
      },
      "outputs": [
        {
          "output_type": "stream",
          "name": "stdout",
          "text": [
            "Fitting 5 folds for each of 10 candidates, totalling 50 fits\n",
            "Best Parameters: {'alpha': 0.7}\n",
            "NB - Training Data Accuracy: 0.8834\n",
            "NB - Training Data Precision: 0.8923\n",
            "NB - Training Data Recall: 0.8718\n",
            "NB - Training Data F1-Score: 0.8819\n",
            "NB - Testing Data Accuracy: 0.8692\n",
            "NB - Testing Data Precision: 0.8810\n",
            "NB - Testing Data Recall: 0.8552\n",
            "NB - Testing Data F1-Score: 0.8679\n",
            "time: 6.55 s (started: 2025-01-29 07:57:06 +00:00)\n"
          ]
        }
      ],
      "source": [
        "param_grid = {\n",
        "    'alpha': [0.01, 0.1, 0.3, 0.5, 0.7, 1.0, 1.5, 2.0, 5.0, 10.0]\n",
        "}\n",
        "\n",
        "my_nb_model = MultinomialNB()\n",
        "my_grid_search = GridSearchCV(my_nb_model, param_grid, cv=5, scoring='f1_weighted', n_jobs=-1, verbose=1)\n",
        "my_grid_search.fit(x_train_tfidf, y_train)\n",
        "best_nb_model = my_grid_search.best_estimator_\n",
        "\n",
        "# predictions for train/test\n",
        "nb_train_predictions = best_nb_model.predict(x_train_tfidf)\n",
        "nb_test_predictions = best_nb_model.predict(x_test_tfidf)\n",
        "\n",
        "# metrics for training data\n",
        "print(f\"NB - Training Data Accuracy: {accuracy_score(y_train, nb_train_predictions):.4f}\")\n",
        "print(f\"NB - Training Data Precision: {precision_score(y_train, nb_train_predictions):.4f}\")\n",
        "print(f\"NB - Training Data Recall: {recall_score(y_train, nb_train_predictions):.4f}\")\n",
        "print(f\"NB - Training Data F1-Score: {f1_score(y_train, nb_train_predictions):.4f}\")\n",
        "\n",
        "# metrics for test data\n",
        "print(f\"NB - Testing Data Accuracy: {accuracy_score(y_test, nb_test_predictions):.4f}\")\n",
        "print(f\"NB - Testing Data Precision: {precision_score(y_test, nb_test_predictions):.4f}\")\n",
        "print(f\"NB - Testing Data Recall: {recall_score(y_test, nb_test_predictions):.4f}\")\n",
        "print(f\"NB - Testing Data F1-Score: {f1_score(y_test, nb_test_predictions):.4f}\")"
      ]
    },
    {
      "cell_type": "markdown",
      "source": [
        "### Observations\n",
        "\n",
        "- Increase in performance after data cleaning (removal of urls, tags, spaces) and data pre-processing.\n",
        "\n"
      ],
      "metadata": {
        "id": "GfhZiW9R3nVi"
      }
    }
  ],
  "metadata": {
    "kernelspec": {
      "display_name": "Python 3",
      "language": "python",
      "name": "python3"
    },
    "language_info": {
      "codemirror_mode": {
        "name": "ipython",
        "version": 3
      },
      "file_extension": ".py",
      "mimetype": "text/x-python",
      "name": "python",
      "nbconvert_exporter": "python",
      "pygments_lexer": "ipython3",
      "version": "3.7.9"
    },
    "colab": {
      "provenance": []
    }
  },
  "nbformat": 4,
  "nbformat_minor": 0
}